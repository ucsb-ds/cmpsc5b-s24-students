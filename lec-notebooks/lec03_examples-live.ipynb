{
 "cells": [
  {
   "cell_type": "code",
   "execution_count": 2,
   "metadata": {
    "tags": []
   },
   "outputs": [],
   "source": [
    "from datascience import *\n",
    "import numpy as np\n",
    "\n",
    "%matplotlib inline\n",
    "import matplotlib.pyplot as plots\n",
    "plots.style.use('fivethirtyeight')"
   ]
  },
  {
   "cell_type": "markdown",
   "metadata": {},
   "source": [
    "# Students Flipping Fair Coins Conclude Coin is Unfair!\n",
    "\n",
    "Suppose there are 2000 students. Each student:\n",
    "\n",
    "- is given a fair coin by the instructor but they are not told that it is a fair coin\n",
    "- collects data by flipping the coin **100 times** and counts the number of times it lands *Heads*\n",
    "- runs a **hypothesis test**:\n",
    "    - **Null Hypothesis**: They were givne a fair coin and the number of heads observed see is due to chance.\n",
    "    - **Alternative Hypothesis**: The coin is biased and so the number of heads they observed is not due to chance alone.\n",
    "    - **Test Statistic**: abs(num_heads - 50)\n",
    "- runs 1000 simulations of flipping a fair coin 100 times (using Python)\n",
    "- reports their p-value and rejects the null hypothesis if their p-value is less than 0.05\n",
    "\n",
    "We know that we gave all of them fair coints. How often will they incorrectly reject the null hypothesis?\n",
    "\n",
    "Could you write code to simulate the process of one student running this hypothesis test?"
   ]
  },
  {
   "cell_type": "markdown",
   "metadata": {
    "tags": []
   },
   "source": [
    "## Simulating the Simulation\n",
    "In the following we will use simulation to simulate the students running a simulation. Very meta!\n",
    "\n",
    "1. simulate one coin flip `np.random.choice()`\n",
    "2. simulate 100 coin flips\n",
    "3. calculate the observed test statistic\n",
    "4. simulate one the statistic under the null hypothesis\n",
    "5. simulate 1000x from null hypothesis\n",
    "6. calculate p-value"
   ]
  },
  {
   "cell_type": "code",
   "execution_count": 27,
   "metadata": {},
   "outputs": [
    {
     "data": {
      "text/plain": [
       "'H'"
      ]
     },
     "execution_count": 27,
     "metadata": {},
     "output_type": "execute_result"
    }
   ],
   "source": [
    "# one coin flip\n",
    "np.random.choice(['H','T'])"
   ]
  },
  {
   "cell_type": "code",
   "execution_count": 28,
   "metadata": {},
   "outputs": [
    {
     "data": {
      "text/plain": [
       "array(['T', 'H', 'H', 'H', 'T', 'H', 'T', 'H', 'T', 'H', 'T', 'T', 'H',\n",
       "       'T', 'T', 'H', 'H', 'H', 'T', 'T', 'H', 'H', 'T', 'T', 'T', 'H',\n",
       "       'H', 'H', 'T', 'T', 'H', 'T', 'H', 'H', 'T', 'T', 'T', 'H', 'H',\n",
       "       'H', 'H', 'T', 'T', 'T', 'H', 'H', 'H', 'H', 'H', 'H', 'H', 'T',\n",
       "       'H', 'H', 'T', 'T', 'H', 'H', 'T', 'H', 'H', 'H', 'H', 'T', 'H',\n",
       "       'T', 'T', 'H', 'H', 'H', 'H', 'H', 'T', 'T', 'T', 'H', 'H', 'T',\n",
       "       'T', 'H', 'T', 'H', 'T', 'T', 'H', 'H', 'H', 'H', 'T', 'T', 'T',\n",
       "       'H', 'T', 'H', 'T', 'T', 'H', 'H', 'H', 'T'],\n",
       "      dtype='<U1')"
      ]
     },
     "execution_count": 28,
     "metadata": {},
     "output_type": "execute_result"
    }
   ],
   "source": [
    "# one student flipping a coin 100x\n",
    "# 100 coin flips\n",
    "num_coin_flips = 100\n",
    "obs_flips = np.random.choice(['H','T'], num_coin_flips)\n",
    "# alternatively we could do np.,random.choice(['H','T'], 100)\n",
    "len(obs_flips)\n",
    "# obs_flips acts as our sample data or observed data\n",
    "# this will be useful when we calculate the p-value later on\n",
    "# p-value we need to compare our simulated test statstics with an observed test statistic (what actually happened in a given data set)\n",
    "obs_flips"
   ]
  },
  {
   "cell_type": "code",
   "execution_count": 29,
   "metadata": {},
   "outputs": [],
   "source": [
    "# 3. calculate the observed test statistic\n",
    "# abs(num_heads - 50)\n",
    "obs_test_statistic = abs(sum(obs_flips == \"H\") - 50)\n",
    "# check obs_flips array and find all entries where it is equal to \"H\"\n",
    "# obs_flips == \"H\" it gives us an array of boolean values, Trues or Falses\n",
    "# when we take the sum of array of boolean values, it essentially counts the Trues\n",
    "# converts Trues to 1s and Falses to 0s\n",
    "# when we take the sum of an array of 1s and 0s, we are effectively counting the 1s (or Trues)\n",
    "\n",
    "\n",
    "# the number below is my observed test statistic"
   ]
  },
  {
   "cell_type": "code",
   "execution_count": 38,
   "metadata": {},
   "outputs": [
    {
     "data": {
      "text/plain": [
       "3"
      ]
     },
     "execution_count": 38,
     "metadata": {},
     "output_type": "execute_result"
    }
   ],
   "source": [
    "#4. simulate one the statistic under the null hypothesis\n",
    "\n",
    "# define a function to simulate coin flips and calculate statistic\n",
    "def simulate_one_statistic():\n",
    "    # each student flips a coin 100x\n",
    "    num_coin_flips = 100\n",
    "    # sim_flips simulates a 100 coin flips\n",
    "    sim_flips = np.random.choice(['H','T'], num_coin_flips)\n",
    "    # count the numberof times we got Heads or \"H\"\n",
    "    # find its absolute distance from 50\n",
    "    sim_test_statistic = abs(sum(sim_flips == \"H\") - 50)\n",
    "    return sim_test_statistic\n",
    "\n",
    "simulate_one_statistic()"
   ]
  },
  {
   "cell_type": "code",
   "execution_count": 47,
   "metadata": {},
   "outputs": [
    {
     "data": {
      "text/plain": [
       "0.25800000000000001"
      ]
     },
     "execution_count": 47,
     "metadata": {},
     "output_type": "execute_result"
    }
   ],
   "source": [
    "#5. simulate 1000x from null hypothesis (for the sake of time we simulate 1_000 students flipping coins instead of 2_000)\n",
    "\n",
    "num_simulations = 1_000\n",
    "simulated_statistics = make_array() #initialize an empty array outside of our for loop\n",
    "# to capture each simulate_one_statistic() and append it to this array\n",
    "# by the end of the for loop, it should have 1_000 simulated statistics inside\n",
    "# or len(simulated_statistics) == 1_000\n",
    "\n",
    "for i in np.arange(num_simulations): # simulate 1000 students flipping coins\n",
    "    one_statistic = simulate_one_statistic()\n",
    "    simulated_statistics = np.append(simulated_statistics, one_statistic) # append to my array the value of one_statistic\n",
    "\n",
    "#compute p-value\n",
    "# what is the proportion of times we simulate the observed test statistic (obs_test_statistic) and further in the direction of the alternative\n",
    "\n",
    "sum(simulated_statistics >= 6)/num_simulations\n",
    "# obs_test_statistic = 6\n",
    "# direction of the alternative is right of an empirical distribution, higher/greater values\n",
    "\n",
    "# p-value = 0.258\n",
    "# this means, 25.8% we were able to simulate the obs test statistic and further in the direction of the alternative\n",
    "\n",
    "# we decided our p-value cut-off% was 5%\n",
    "# our p-value > 5%, \n",
    "# therefore, we fail to reject the null\n",
    "# we have no evidence that our coin isn't fair\n",
    "# maybe this coin is fair after all\n"
   ]
  },
  {
   "cell_type": "code",
   "execution_count": 65,
   "metadata": {},
   "outputs": [
    {
     "data": {
      "text/plain": [
       "0.25700000000000001"
      ]
     },
     "execution_count": 65,
     "metadata": {},
     "output_type": "execute_result"
    }
   ],
   "source": [
    "def simulate_one_hypothesis_test():\n",
    "    # Hypothesis Test: simulate under null hypothesis\n",
    "    num_simulations = 1_000\n",
    "    simulated_statistics = make_array() #initialize an empty array outside of our for loop\n",
    "\n",
    "    for i in np.arange(num_simulations): # simulate 1000 students flipping coins\n",
    "        one_statistic = simulate_one_statistic()\n",
    "        simulated_statistics = np.append(simulated_statistics, one_statistic) # append to my array the value of one_statistic\n",
    "\n",
    "    #compute p-value\n",
    "    p_value = (sum(simulated_statistics >= obs_test_statistic)/num_simulations)\n",
    "    return p_value\n",
    "    \n",
    "simulate_one_hypothesis_test()"
   ]
  },
  {
   "cell_type": "code",
   "execution_count": 48,
   "metadata": {},
   "outputs": [
    {
     "data": {
      "text/plain": [
       "6"
      ]
     },
     "execution_count": 48,
     "metadata": {},
     "output_type": "execute_result"
    }
   ],
   "source": [
    "obs_test_statistic"
   ]
  },
  {
   "cell_type": "code",
   "execution_count": null,
   "metadata": {},
   "outputs": [],
   "source": []
  },
  {
   "cell_type": "code",
   "execution_count": null,
   "metadata": {},
   "outputs": [],
   "source": []
  },
  {
   "cell_type": "code",
   "execution_count": null,
   "metadata": {},
   "outputs": [],
   "source": []
  },
  {
   "cell_type": "code",
   "execution_count": null,
   "metadata": {},
   "outputs": [],
   "source": []
  },
  {
   "cell_type": "code",
   "execution_count": null,
   "metadata": {},
   "outputs": [],
   "source": []
  },
  {
   "cell_type": "code",
   "execution_count": null,
   "metadata": {},
   "outputs": [],
   "source": []
  },
  {
   "cell_type": "code",
   "execution_count": null,
   "metadata": {},
   "outputs": [],
   "source": []
  },
  {
   "cell_type": "markdown",
   "metadata": {},
   "source": [
    "### Simulate all students running the experiment"
   ]
  },
  {
   "cell_type": "code",
   "execution_count": 66,
   "metadata": {},
   "outputs": [],
   "source": [
    "n_simulations = 1_000\n",
    "all_simulations = make_array()\n",
    "\n",
    "for i in np.arange(n_simulations):\n",
    "    all_simulations = np.append(all_simulations, simulate_one_hypothesis_test())\n",
    "    "
   ]
  },
  {
   "cell_type": "markdown",
   "metadata": {},
   "source": [
    "## Plot the p-values\n",
    "\n",
    "You would seldom do this in practice, but here we can visualize the distribution of p-values that all the students in the class get. Some will conclude that they have an unfair coin.\n",
    "\n"
   ]
  },
  {
   "cell_type": "code",
   "execution_count": 67,
   "metadata": {
    "tags": []
   },
   "outputs": [
    {
     "ename": "IndexError",
     "evalue": "index 0 is out of bounds for axis 0 with size 0",
     "output_type": "error",
     "traceback": [
      "\u001b[0;31m---------------------------------------------------------------------------\u001b[0m",
      "\u001b[0;31mIndexError\u001b[0m                                Traceback (most recent call last)",
      "Cell \u001b[0;32mIn[67], line 2\u001b[0m\n\u001b[1;32m      1\u001b[0m tbl \u001b[38;5;241m=\u001b[39m Table()\u001b[38;5;241m.\u001b[39mwith_column(\u001b[38;5;124m\"\u001b[39m\u001b[38;5;124mP Values\u001b[39m\u001b[38;5;124m\"\u001b[39m, all_simulations)\n\u001b[0;32m----> 2\u001b[0m \u001b[43mtbl\u001b[49m\u001b[38;5;241;43m.\u001b[39;49m\u001b[43mhist\u001b[49m\u001b[43m(\u001b[49m\u001b[38;5;124;43m\"\u001b[39;49m\u001b[38;5;124;43mP Values\u001b[39;49m\u001b[38;5;124;43m\"\u001b[39;49m\u001b[43m,\u001b[49m\u001b[43m \u001b[49m\u001b[43mbins\u001b[49m\u001b[38;5;241;43m=\u001b[39;49m\u001b[43mnp\u001b[49m\u001b[38;5;241;43m.\u001b[39;49m\u001b[43marange\u001b[49m\u001b[43m(\u001b[49m\u001b[38;5;241;43m0\u001b[39;49m\u001b[43m,\u001b[49m\u001b[43m \u001b[49m\u001b[38;5;241;43m1\u001b[39;49m\u001b[43m,\u001b[49m\u001b[43m \u001b[49m\u001b[38;5;241;43m0.01\u001b[39;49m\u001b[43m)\u001b[49m\u001b[43m,\u001b[49m\u001b[43m \u001b[49m\u001b[43mright_end\u001b[49m\u001b[38;5;241;43m=\u001b[39;49m\u001b[38;5;241;43m0.05\u001b[39;49m\u001b[43m)\u001b[49m\n",
      "File \u001b[0;32m/opt/conda/lib/python3.11/site-packages/datascience/tables.py:5533\u001b[0m, in \u001b[0;36mTable.hist\u001b[0;34m(self, overlay, bins, bin_column, unit, counts, group, rug, side_by_side, left_end, right_end, width, height, *columns, **vargs)\u001b[0m\n\u001b[1;32m   5529\u001b[0m                 axis\u001b[38;5;241m.\u001b[39mscatter(values_for_hist, np\u001b[38;5;241m.\u001b[39mzeros_like(values_for_hist), marker\u001b[38;5;241m=\u001b[39m\u001b[38;5;124m\"\u001b[39m\u001b[38;5;124m|\u001b[39m\u001b[38;5;124m\"\u001b[39m,\n\u001b[1;32m   5530\u001b[0m                              color\u001b[38;5;241m=\u001b[39m\u001b[38;5;124m\"\u001b[39m\u001b[38;5;124mblack\u001b[39m\u001b[38;5;124m\"\u001b[39m, s\u001b[38;5;241m=\u001b[39m\u001b[38;5;241m100\u001b[39m, zorder\u001b[38;5;241m=\u001b[39m\u001b[38;5;241m10\u001b[39m)\n\u001b[1;32m   5531\u001b[0m             \u001b[38;5;28mtype\u001b[39m(\u001b[38;5;28mself\u001b[39m)\u001b[38;5;241m.\u001b[39mplots\u001b[38;5;241m.\u001b[39mappend(axis)\n\u001b[0;32m-> 5533\u001b[0m \u001b[43mdraw_hist\u001b[49m\u001b[43m(\u001b[49m\u001b[43mvalues_dict\u001b[49m\u001b[43m)\u001b[49m\n",
      "File \u001b[0;32m/opt/conda/lib/python3.11/site-packages/datascience/tables.py:5524\u001b[0m, in \u001b[0;36mTable.hist.<locals>.draw_hist\u001b[0;34m(values_dict)\u001b[0m\n\u001b[1;32m   5522\u001b[0m heights, bins, patches \u001b[38;5;241m=\u001b[39m axis\u001b[38;5;241m.\u001b[39mhist(values_for_hist, color\u001b[38;5;241m=\u001b[39mcolor, \u001b[38;5;241m*\u001b[39m\u001b[38;5;241m*\u001b[39mvargs)\n\u001b[1;32m   5523\u001b[0m \u001b[38;5;28;01mif\u001b[39;00m left_end \u001b[38;5;129;01mis\u001b[39;00m \u001b[38;5;129;01mnot\u001b[39;00m \u001b[38;5;28;01mNone\u001b[39;00m \u001b[38;5;129;01mand\u001b[39;00m right_end \u001b[38;5;129;01mis\u001b[39;00m \u001b[38;5;129;01mnot\u001b[39;00m \u001b[38;5;28;01mNone\u001b[39;00m:\n\u001b[0;32m-> 5524\u001b[0m     x_shade, height_shade, width_shade \u001b[38;5;241m=\u001b[39m \u001b[43m_compute_shading\u001b[49m\u001b[43m(\u001b[49m\u001b[43mheights\u001b[49m\u001b[43m,\u001b[49m\u001b[43m \u001b[49m\u001b[43mbins\u001b[49m\u001b[38;5;241;43m.\u001b[39;49m\u001b[43mcopy\u001b[49m\u001b[43m(\u001b[49m\u001b[43m)\u001b[49m\u001b[43m,\u001b[49m\u001b[43m \u001b[49m\u001b[43mleft_end\u001b[49m\u001b[43m,\u001b[49m\u001b[43m \u001b[49m\u001b[43mright_end\u001b[49m\u001b[43m)\u001b[49m\n\u001b[1;32m   5525\u001b[0m     axis\u001b[38;5;241m.\u001b[39mbar(x_shade, height_shade, width\u001b[38;5;241m=\u001b[39mwidth_shade,\n\u001b[1;32m   5526\u001b[0m              color\u001b[38;5;241m=\u001b[39m\u001b[38;5;28mself\u001b[39m\u001b[38;5;241m.\u001b[39mchart_colors[\u001b[38;5;241m1\u001b[39m], align\u001b[38;5;241m=\u001b[39m\u001b[38;5;124m\"\u001b[39m\u001b[38;5;124medge\u001b[39m\u001b[38;5;124m\"\u001b[39m)\n\u001b[1;32m   5527\u001b[0m _vertical_x(axis)\n",
      "File \u001b[0;32m/opt/conda/lib/python3.11/site-packages/datascience/tables.py:5848\u001b[0m, in \u001b[0;36m_compute_shading\u001b[0;34m(heights, bins, left_end, right_end)\u001b[0m\n\u001b[1;32m   5845\u001b[0m height_shade \u001b[38;5;241m=\u001b[39m heights[shade_start_idx:shade_end_idx]\n\u001b[1;32m   5846\u001b[0m width_shade \u001b[38;5;241m=\u001b[39m np\u001b[38;5;241m.\u001b[39mdiff(bins[shade_start_idx:(shade_end_idx\u001b[38;5;241m+\u001b[39m\u001b[38;5;241m1\u001b[39m)])\n\u001b[0;32m-> 5848\u001b[0m \u001b[38;5;28;01mif\u001b[39;00m left_end \u001b[38;5;241m>\u001b[39m \u001b[43mx_shade\u001b[49m\u001b[43m[\u001b[49m\u001b[38;5;241;43m0\u001b[39;49m\u001b[43m]\u001b[49m:\n\u001b[1;32m   5849\u001b[0m     \u001b[38;5;66;03m# shrink the width by the unshaded area, then move the bin start\u001b[39;00m\n\u001b[1;32m   5850\u001b[0m     width_shade[\u001b[38;5;241m0\u001b[39m] \u001b[38;5;241m-\u001b[39m\u001b[38;5;241m=\u001b[39m (left_end \u001b[38;5;241m-\u001b[39m x_shade[\u001b[38;5;241m0\u001b[39m])\n\u001b[1;32m   5851\u001b[0m     x_shade[\u001b[38;5;241m0\u001b[39m] \u001b[38;5;241m=\u001b[39m left_end\n",
      "\u001b[0;31mIndexError\u001b[0m: index 0 is out of bounds for axis 0 with size 0"
     ]
    },
    {
     "data": {
      "image/png": "[encoded data removed]",
      "text/plain": [
       "<Figure size 600x400 with 1 Axes>"
      ]
     },
     "metadata": {},
     "output_type": "display_data"
    }
   ],
   "source": [
    "tbl = Table().with_column(\"P Values\", all_simulations)\n",
    "tbl.hist(\"P Values\", bins=np.arange(0, 1, 0.01), right_end=0.05)"
   ]
  },
  {
   "cell_type": "markdown",
   "metadata": {
    "tags": []
   },
   "source": [
    "## Number of students who would reject the null"
   ]
  },
  {
   "cell_type": "code",
   "execution_count": 70,
   "metadata": {},
   "outputs": [
    {
     "data": {
      "text/plain": [
       "0"
      ]
     },
     "execution_count": 70,
     "metadata": {},
     "output_type": "execute_result"
    }
   ],
   "source": [
    "sum(all_simulations <= 0.05)"
   ]
  },
  {
   "cell_type": "markdown",
   "metadata": {},
   "source": [
    "---"
   ]
  },
  {
   "cell_type": "markdown",
   "metadata": {},
   "source": [
    "# Super Soda Co and the Case of Bad Taste\n",
    "Manufacturers of Super Soda run a taste test and 91 out of 200 tasters prefer Super Soda over its rival. The boss is upset! He asks:\n",
    "\n",
    "Do fewer people prefer Super Soda, or is this just chance?\n",
    "\n",
    "You run a hypothesis test:\n",
    "\n",
    "Null Hypothesis: Equal proportions of the population prefer Super Soda as Rival and any variability is due to chance.\n",
    "Alternative Hypothesis: Fewer people in the population prefer Super Soda than its Rival.\n",
    "Test Statistic: Number of people who prefer Super Soda\n",
    "You pick a p-value cutoff of 0.05"
   ]
  },
  {
   "cell_type": "code",
   "execution_count": 85,
   "metadata": {
    "tags": []
   },
   "outputs": [],
   "source": [
    "obs_statistic = 91 # number of people who preferred Super Soda out of 200"
   ]
  },
  {
   "cell_type": "code",
   "execution_count": 81,
   "metadata": {},
   "outputs": [
    {
     "data": {
      "text/plain": [
       "96"
      ]
     },
     "execution_count": 81,
     "metadata": {},
     "output_type": "execute_result"
    }
   ],
   "source": [
    "# simulate one taste test\n",
    "# simulating under the null : equal chance of preferring Super Soda vs rival\n",
    "def simulate_one_count(sample_size):\n",
    "    simulated_data = np.random.choice(['Super', 'Rival'], sample_size)\n",
    "    simulated_statistic = np.count_nonzero(simulated_data == \"Super\") \n",
    "    # or sum(simulated_data == \"Super\")\n",
    "    # both count the number of Trues\n",
    "    return simulated_statistic\n",
    "\n",
    "simulate_one_count(200)\n",
    "\n"
   ]
  },
  {
   "cell_type": "code",
   "execution_count": 82,
   "metadata": {},
   "outputs": [
    {
     "data": {
      "text/plain": [
       "array([  88.,  115.,  101., ...,  103.,   99.,  104.])"
      ]
     },
     "execution_count": 82,
     "metadata": {},
     "output_type": "execute_result"
    }
   ],
   "source": [
    "num_simulations = 10_000\n",
    "counts = make_array()\n",
    "for i in np.arange(num_simulations):\n",
    "    counts = np.append(counts, simulate_one_count(200))\n",
    "\n",
    "counts"
   ]
  },
  {
   "cell_type": "code",
   "execution_count": 83,
   "metadata": {},
   "outputs": [
    {
     "data": {
      "text/plain": [
       "10000"
      ]
     },
     "execution_count": 83,
     "metadata": {},
     "output_type": "execute_result"
    }
   ],
   "source": [
    "len(counts)"
   ]
  },
  {
   "cell_type": "code",
   "execution_count": 86,
   "metadata": {
    "tags": []
   },
   "outputs": [
    {
     "data": {
      "image/png": "[encoded data removed]",
      "text/plain": [
       "<Figure size 600x400 with 1 Axes>"
      ]
     },
     "metadata": {},
     "output_type": "display_data"
    }
   ],
   "source": [
    "trials = Table().with_column('Number of Super Soda Preferences', counts)\n",
    "trials.hist(right_end=91)\n",
    "plots.ylim(-0.001, 0.055)\n",
    "plots.scatter(obs_statistic, 0, color='red', s=40, zorder=3) #red dot:  observed test statistic = 91\n",
    "plots.title('Prediction Under the Null');"
   ]
  },
  {
   "cell_type": "code",
   "execution_count": 93,
   "metadata": {},
   "outputs": [
    {
     "name": "stdout",
     "output_type": "stream",
     "text": [
      "The p-value is 0.1133\n",
      "or 11.33%, which is greater than the 5% cut-off. We fail to reject the null hypothesis. Equal proportion of the population prefer Super Soda vs Rival.People don't really have a preference between the two sodas.\n"
     ]
    }
   ],
   "source": [
    "p_value = np.count_nonzero(counts <= obs_statistic) / len(counts)\n",
    "print('The p-value is', p_value)\n",
    "print(\"or 11.33%, which is greater than the 5% cut-off. We fail to reject the null hypothesis. Equal proportion of the population prefer Super Soda vs Rival.People don't really have a preference between the two sodas.\")"
   ]
  },
  {
   "cell_type": "markdown",
   "metadata": {},
   "source": [
    "## Changing the number of simulations\n",
    "What happens if we run a different number of simulations?"
   ]
  },
  {
   "cell_type": "markdown",
   "metadata": {
    "tags": []
   },
   "source": [
    "### Simulating the Simulation (Again)\n",
    "We can again run multiple simulations of our simulation."
   ]
  },
  {
   "cell_type": "code",
   "execution_count": null,
   "metadata": {
    "tags": []
   },
   "outputs": [],
   "source": [
    "# For larger numbers of simulations, p-values are more consistent\n",
    "tests.hist(\"p-value for 91\", group='simulations', bins=20)"
   ]
  },
  {
   "cell_type": "markdown",
   "metadata": {
    "tags": []
   },
   "source": [
    "### Law of Large Number\n",
    "The reason the p-values concentrate towards the true p-value is that the emprical distribution under the null is better approximates by increasing the number of simulations. More is better!"
   ]
  },
  {
   "cell_type": "code",
   "execution_count": 97,
   "metadata": {},
   "outputs": [
    {
     "data": {
      "text/plain": [
       "array([ 106.,   99.,  104., ...,  101.,   98.,   97.])"
      ]
     },
     "execution_count": 97,
     "metadata": {},
     "output_type": "execute_result"
    }
   ],
   "source": [
    "def simulate_null(num_simulations, sample_size):\n",
    "    counts = make_array()\n",
    "    for i in np.arange(num_simulations):\n",
    "        counts = np.append(counts, simulate_one_count(sample_size))\n",
    "    return counts\n",
    "simulate_null(10_000, 200)"
   ]
  },
  {
   "cell_type": "code",
   "execution_count": 98,
   "metadata": {
    "tags": []
   },
   "outputs": [
    {
     "data": {
      "image/png": "[encoded data removed]",
      "text/plain": [
       "<Figure size 600x400 with 1 Axes>"
      ]
     },
     "metadata": {},
     "output_type": "display_data"
    }
   ],
   "source": [
    "t1 = Table().with_columns(\"Number of Super Soda Preferences\", simulate_null(100, 200),\n",
    "                           \"Simulation Size\", 100)\n",
    "\n",
    "t2 = Table().with_columns(\"Number of Super Soda Preferences\", simulate_null(100_000, 200),\n",
    "                           \"Simulation Size\", 100_000)\n",
    "\n",
    "t1.append(t2).hist(group='Simulation Size', bins=np.arange(70.5, 131, 1))"
   ]
  },
  {
   "cell_type": "markdown",
   "metadata": {},
   "source": [
    "## The Importance of Sample Size\n",
    "Larger samples give us more information about the population and also allow us to test more subtle differences.\n",
    "\n",
    "Suppose that the true proportion of people who prefer Super Soda is 45%"
   ]
  },
  {
   "cell_type": "code",
   "execution_count": 99,
   "metadata": {
    "tags": []
   },
   "outputs": [
    {
     "data": {
      "text/plain": [
       "array([ 0.45,  0.55])"
      ]
     },
     "execution_count": 99,
     "metadata": {},
     "output_type": "execute_result"
    }
   ],
   "source": [
    "true_proportion = 0.45\n",
    "true_distribution = make_array(true_proportion, 1 - true_proportion)\n",
    "true_distribution"
   ]
  },
  {
   "cell_type": "markdown",
   "metadata": {},
   "source": [
    "Taste tests with 200 people will give varioius numbers of people who prefer Super Soda"
   ]
  },
  {
   "cell_type": "code",
   "execution_count": 100,
   "metadata": {
    "tags": []
   },
   "outputs": [
    {
     "data": {
      "text/plain": [
       "array([  94.,  106.])"
      ]
     },
     "execution_count": 100,
     "metadata": {},
     "output_type": "execute_result"
    }
   ],
   "source": [
    "sample_size = 200\n",
    "sample_proportions(sample_size, true_distribution) * sample_size"
   ]
  },
  {
   "cell_type": "code",
   "execution_count": 101,
   "metadata": {
    "tags": []
   },
   "outputs": [
    {
     "ename": "NameError",
     "evalue": "name 'run_test' is not defined",
     "output_type": "error",
     "traceback": [
      "\u001b[0;31m---------------------------------------------------------------------------\u001b[0m",
      "\u001b[0;31mNameError\u001b[0m                                 Traceback (most recent call last)",
      "Cell \u001b[0;32mIn[101], line 12\u001b[0m\n\u001b[1;32m      9\u001b[0m     p_value \u001b[38;5;241m=\u001b[39m run_test(num_simulations, sample_size, observed_stat_from_this_sample)\n\u001b[1;32m     10\u001b[0m     \u001b[38;5;28;01mreturn\u001b[39;00m p_value\n\u001b[0;32m---> 12\u001b[0m \u001b[43mrun_experiment\u001b[49m\u001b[43m(\u001b[49m\u001b[38;5;241;43m10000\u001b[39;49m\u001b[43m,\u001b[49m\u001b[43m \u001b[49m\u001b[38;5;241;43m200\u001b[39;49m\u001b[43m,\u001b[49m\u001b[43m \u001b[49m\u001b[38;5;241;43m0.45\u001b[39;49m\u001b[43m)\u001b[49m\n",
      "Cell \u001b[0;32mIn[101], line 9\u001b[0m, in \u001b[0;36mrun_experiment\u001b[0;34m(num_simulations, sample_size, true_proportion)\u001b[0m\n\u001b[1;32m      6\u001b[0m observed_stat_from_this_sample \u001b[38;5;241m=\u001b[39m taste_test_results\u001b[38;5;241m.\u001b[39mitem(\u001b[38;5;241m0\u001b[39m)\n\u001b[1;32m      8\u001b[0m \u001b[38;5;66;03m# Conduct hypothesis test\u001b[39;00m\n\u001b[0;32m----> 9\u001b[0m p_value \u001b[38;5;241m=\u001b[39m \u001b[43mrun_test\u001b[49m(num_simulations, sample_size, observed_stat_from_this_sample)\n\u001b[1;32m     10\u001b[0m \u001b[38;5;28;01mreturn\u001b[39;00m p_value\n",
      "\u001b[0;31mNameError\u001b[0m: name 'run_test' is not defined"
     ]
    }
   ],
   "source": [
    "# If you run a taste test for 200 people, what might you conclude?\n",
    "def run_experiment(num_simulations, sample_size, true_proportion):\n",
    "    # Collect data\n",
    "    true_distribution = make_array(true_proportion, 1 - true_proportion)\n",
    "    taste_test_results = sample_proportions(sample_size, true_distribution) * sample_size\n",
    "    observed_stat_from_this_sample = taste_test_results.item(0)\n",
    "    \n",
    "    # Conduct hypothesis test\n",
    "    p_value = run_test(num_simulations, sample_size, observed_stat_from_this_sample)\n",
    "    return p_value\n",
    "\n",
    "run_experiment(10000, 200, 0.45)"
   ]
  },
  {
   "cell_type": "markdown",
   "metadata": {},
   "source": [
    "Try using different values for the true_proportion and sample size. What happens to as the true proportion gets closer to 0.5? What happens if we increase the sample size."
   ]
  },
  {
   "cell_type": "code",
   "execution_count": null,
   "metadata": {
    "tags": []
   },
   "outputs": [],
   "source": [
    "# Let's imagine running our taste test over and over again to see how often we reject the null\n",
    "true_proportion = 0.45\n",
    "sample_size = 100\n",
    "p_values = make_array()\n",
    "for k in np.arange(100):\n",
    "    p_value = run_experiment(1000, sample_size, true_proportion)\n",
    "    p_values = np.append(p_values, p_value)\n",
    "Table().with_column('P-value', p_values).hist(0, right_end=0.05, bins=np.arange(0,1,0.1))\n",
    "print(\"Percent that correctly reject the null\", 100*np.mean(p_values <= 0.05))"
   ]
  },
  {
   "cell_type": "markdown",
   "metadata": {},
   "source": [
    "# Example: Benford's Law\n",
    "\n",
    "https://en.wikipedia.org/wiki/Benford%27s_law"
   ]
  },
  {
   "cell_type": "code",
   "execution_count": null,
   "metadata": {
    "tags": []
   },
   "outputs": [],
   "source": [
    "digits = np.arange(1, 10)\n",
    "benford_model = np.log10(1 + 1/digits)"
   ]
  },
  {
   "cell_type": "code",
   "execution_count": null,
   "metadata": {
    "tags": []
   },
   "outputs": [],
   "source": [
    "benford = Table().with_columns(\n",
    "    'First digit', digits,\n",
    "    'Benford model prob', benford_model)\n",
    "benford.barh('First digit')"
   ]
  },
  {
   "cell_type": "code",
   "execution_count": null,
   "metadata": {
    "tags": []
   },
   "outputs": [],
   "source": [
    "# You don't have to understand how this function works, since it uses Python features from beyond Data 8.\n",
    "def first_digit(num):\n",
    "    return int(str(num)[0])"
   ]
  },
  {
   "cell_type": "code",
   "execution_count": null,
   "metadata": {
    "tags": []
   },
   "outputs": [],
   "source": [
    "# County populations from the census data\n",
    "counties = Table.read_table('data/counties.csv')\n",
    "counties = counties.where('SUMLEV', 50).select(5,6,9).relabeled(0,'State').relabeled(1,'County').relabeled(2,'Population')\n",
    "counties.show(3)"
   ]
  },
  {
   "cell_type": "code",
   "execution_count": null,
   "metadata": {
    "tags": []
   },
   "outputs": [],
   "source": [
    "first_digits = counties.apply(first_digit, 'Population')\n",
    "counties = counties.with_column('First digit', first_digits)\n",
    "counties.show(3)"
   ]
  },
  {
   "cell_type": "code",
   "execution_count": null,
   "metadata": {
    "tags": []
   },
   "outputs": [],
   "source": [
    "num_counties = counties.num_rows"
   ]
  },
  {
   "cell_type": "code",
   "execution_count": null,
   "metadata": {
    "tags": []
   },
   "outputs": [],
   "source": [
    "by_digit = counties.group('First digit')\n",
    "proportions = by_digit.column('count')/num_counties\n",
    "by_digit = by_digit.with_columns(\n",
    "    'Proportion', proportions,\n",
    "    'Benford proportion', benford_model\n",
    ")\n",
    "by_digit.drop('count').barh('First digit')"
   ]
  },
  {
   "cell_type": "markdown",
   "metadata": {},
   "source": [
    "Null hypothesis:  the match up with  the bendfrd model is due to chance"
   ]
  },
  {
   "cell_type": "markdown",
   "metadata": {},
   "source": [
    "Alternative hypothesis:  similarities in our counties' proportion and Benford's model are "
   ]
  },
  {
   "cell_type": "markdown",
   "metadata": {},
   "source": [
    "Test statistic: ___\n",
    "\n",
    "Fill in the blank with \"Bigger\" or \"Smaller\":\n",
    "\n",
    "___ values of the test statistic favor the alternative"
   ]
  },
  {
   "cell_type": "code",
   "execution_count": null,
   "metadata": {
    "tags": []
   },
   "outputs": [],
   "source": [
    "observed_tvd = sum(abs(proportions - benford_model))/2\n",
    "observed_tvd\n",
    "print(proportions)\n",
    "print(benford_model)"
   ]
  },
  {
   "cell_type": "code",
   "execution_count": null,
   "metadata": {
    "tags": []
   },
   "outputs": [],
   "source": [
    "sample_proportions(num_counties, benford_model)"
   ]
  },
  {
   "cell_type": "code",
   "execution_count": null,
   "metadata": {
    "tags": []
   },
   "outputs": [],
   "source": [
    "simulated_frequencies = sample_proportions(num_counties, benford_model)\n",
    "tvd = sum(abs(simulated_frequencies - benford_model))/2\n",
    "tvd"
   ]
  },
  {
   "cell_type": "code",
   "execution_count": null,
   "metadata": {
    "tags": []
   },
   "outputs": [],
   "source": [
    "def simulate_county_first_digits():\n",
    "    simulated_frequencies = sample_proportions(num_counties, benford_model)\n",
    "    tvd = sum(abs(simulated_frequencies - benford_model))/2\n",
    "    return tvd"
   ]
  },
  {
   "cell_type": "code",
   "execution_count": null,
   "metadata": {
    "tags": []
   },
   "outputs": [],
   "source": [
    "simulated_tvds = make_array()\n",
    "\n",
    "for i in np.arange(10000):\n",
    "    simulated_tvds = np.append(simulated_tvds, simulate_county_first_digits())"
   ]
  },
  {
   "cell_type": "code",
   "execution_count": null,
   "metadata": {
    "tags": []
   },
   "outputs": [],
   "source": [
    "Table().with_column('Simulated TVD', simulated_tvds).hist(0)"
   ]
  },
  {
   "cell_type": "code",
   "execution_count": null,
   "metadata": {
    "tags": []
   },
   "outputs": [],
   "source": [
    "np.count_nonzero(simulated_tvds >= observed_tvd) / 10000"
   ]
  },
  {
   "cell_type": "markdown",
   "metadata": {},
   "source": [
    "Are the data consistent with the null hypothesis?"
   ]
  },
  {
   "cell_type": "markdown",
   "metadata": {},
   "source": [
    "## Example: sleep survey"
   ]
  },
  {
   "cell_type": "code",
   "execution_count": null,
   "metadata": {
    "tags": []
   },
   "outputs": [],
   "source": [
    "survey = Table.read_table('data/sleep_survey.csv')\n",
    "survey"
   ]
  },
  {
   "cell_type": "code",
   "execution_count": null,
   "metadata": {
    "tags": []
   },
   "outputs": [],
   "source": [
    "def simplify(sleep_position):\n",
    "    if sleep_position == 'On your left side' or sleep_position == 'On your right side':\n",
    "        return 'side'\n",
    "    else:\n",
    "        return 'back or stomach'\n",
    "    \n",
    "survey = survey.with_column(\n",
    "    'position',\n",
    "    survey.apply(simplify, 'Sleep position')\n",
    ").select('position', 'Hours of sleep')\n",
    "\n",
    "survey"
   ]
  },
  {
   "cell_type": "code",
   "execution_count": null,
   "metadata": {
    "tags": []
   },
   "outputs": [],
   "source": [
    "survey.group('position', np.average)"
   ]
  },
  {
   "cell_type": "markdown",
   "metadata": {},
   "source": [
    "Null hypothesis:  Any differences between average hours of sleep between back/stomach sleepersor side sleepers is due to chance"
   ]
  },
  {
   "cell_type": "markdown",
   "metadata": {},
   "source": [
    "Alternative hypothesis:  \n",
    "\n",
    "Back/stomach sleepers on average get more sleep than side sleepers\n"
   ]
  },
  {
   "cell_type": "markdown",
   "metadata": {},
   "source": [
    "Test statistic:\n",
    "\n",
    "__ Average hours of sleep for back/stomach - Average hours of sleep for side __\n",
    "__ Asolute value of (Average hours of sleepfor back/stomach - Average hours of sleep for side) __\n",
    "\n",
    "\n",
    "\n",
    "Fill in the blank with \"Bigger\" or \"Smaller\":\n",
    "\n",
    "__ Larger __ values of the test statistic favor the alternative"
   ]
  },
  {
   "cell_type": "code",
   "execution_count": null,
   "metadata": {
    "tags": []
   },
   "outputs": [],
   "source": [
    "def compute_test_statistic(tbl):\n",
    "    grouped = tbl.group('position', np.average)\n",
    "    avgs = grouped.column('Hours of sleep average')\n",
    "    return avgs.item(1) - avgs.item(0)"
   ]
  },
  {
   "cell_type": "code",
   "execution_count": null,
   "metadata": {
    "tags": []
   },
   "outputs": [],
   "source": [
    "obs_test_stat = compute_test_statistic(survey)\n",
    "obs_test_stat"
   ]
  },
  {
   "cell_type": "code",
   "execution_count": null,
   "metadata": {
    "tags": []
   },
   "outputs": [],
   "source": [
    "random_labels = survey.sample(with_replacement=False).column('position')"
   ]
  },
  {
   "cell_type": "code",
   "execution_count": null,
   "metadata": {
    "tags": []
   },
   "outputs": [],
   "source": [
    "def simulate_under_null():\n",
    "    random_labels = survey.sample(with_replacement=False).column('position')\n",
    "    relabeled_tbl = survey.with_column('position', random_labels)\n",
    "    return compute_test_statistic(relabeled_tbl)\n"
   ]
  },
  {
   "cell_type": "code",
   "execution_count": null,
   "metadata": {
    "scrolled": true,
    "tags": []
   },
   "outputs": [],
   "source": [
    "simulated_diffs = make_array()\n",
    "for i in np.arange(1000):\n",
    "    null_stat = simulate_under_null()\n",
    "    simulated_diffs = np.append(simulated_diffs, null_stat)"
   ]
  },
  {
   "cell_type": "code",
   "execution_count": null,
   "metadata": {
    "tags": []
   },
   "outputs": [],
   "source": [
    "Table().with_column('Simulated difference', simulated_diffs).hist(0)"
   ]
  },
  {
   "cell_type": "code",
   "execution_count": null,
   "metadata": {
    "tags": []
   },
   "outputs": [],
   "source": [
    "obs_test_stat"
   ]
  },
  {
   "cell_type": "code",
   "execution_count": null,
   "metadata": {
    "tags": []
   },
   "outputs": [],
   "source": [
    "np.mean(simulated_diffs <= obs_test_stat)"
   ]
  },
  {
   "cell_type": "markdown",
   "metadata": {},
   "source": [
    "Are the data consistent with the null hypothesis?"
   ]
  }
 ],
 "metadata": {
  "kernelspec": {
   "display_name": "Python 3 (ipykernel)",
   "language": "python",
   "name": "python3"
  },
  "language_info": {
   "codemirror_mode": {
    "name": "ipython",
    "version": 3
   },
   "file_extension": ".py",
   "mimetype": "text/x-python",
   "name": "python",
   "nbconvert_exporter": "python",
   "pygments_lexer": "ipython3",
   "version": "3.11.5"
  },
  "toc": {
   "base_numbering": 1,
   "nav_menu": {},
   "number_sections": false,
   "sideBar": true,
   "skip_h1_title": false,
   "title_cell": "Table of Contents",
   "title_sidebar": "Contents",
   "toc_cell": false,
   "toc_position": {},
   "toc_section_display": true,
   "toc_window_display": true
  }
 },
 "nbformat": 4,
 "nbformat_minor": 4
}
