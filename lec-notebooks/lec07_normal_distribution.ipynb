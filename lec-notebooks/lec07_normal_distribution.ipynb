{
 "cells": [
  {
   "cell_type": "code",
   "execution_count": null,
   "metadata": {
    "tags": []
   },
   "outputs": [],
   "source": [
    "import matplotlib\n",
    "from datascience import *\n",
    "%matplotlib inline\n",
    "import matplotlib.pyplot as plots\n",
    "import numpy as np\n",
    "plots.style.use('fivethirtyeight')"
   ]
  },
  {
   "cell_type": "markdown",
   "metadata": {},
   "source": [
    "## Standard Units"
   ]
  },
  {
   "cell_type": "code",
   "execution_count": null,
   "metadata": {
    "tags": []
   },
   "outputs": [],
   "source": [
    "exams = Table.read_table('data/exams_fa18.csv')\n",
    "exams.show(5)"
   ]
  },
  {
   "cell_type": "code",
   "execution_count": null,
   "metadata": {
    "tags": []
   },
   "outputs": [],
   "source": [
    "exams.hist(overlay=False, bins=np.arange(0,101,5))"
   ]
  },
  {
   "cell_type": "code",
   "execution_count": null,
   "metadata": {
    "tags": []
   },
   "outputs": [],
   "source": [
    "def standard_units(x):\n",
    "    \"\"\"Convert array of values to standard units\"\"\"\n",
    "    return (x - np.average(x)) / np.std(x)"
   ]
  },
  {
   "cell_type": "code",
   "execution_count": null,
   "metadata": {
    "tags": []
   },
   "outputs": [],
   "source": [
    "midterm_su = standard_units(exams.column('Midterm'))\n",
    "exams = exams.with_column('Midterm in Standard Units', midterm_su)\n",
    "\n",
    "final_su = standard_units(exams.column('Final'))\n",
    "exams = exams.with_column('Final in Standard Units', final_su)\n",
    "\n",
    "exams.show(10)"
   ]
  },
  {
   "cell_type": "code",
   "execution_count": null,
   "metadata": {
    "tags": []
   },
   "outputs": [],
   "source": [
    "(exams\n",
    "    .select('Midterm in Standard Units', 'Final in Standard Units')\n",
    "    .hist(overlay=False, bins=np.arange(-4,2,0.1))\n",
    ")"
   ]
  },
  {
   "cell_type": "markdown",
   "metadata": {},
   "source": [
    "## The SD and Bell Shaped Curves"
   ]
  },
  {
   "cell_type": "code",
   "execution_count": null,
   "metadata": {
    "tags": []
   },
   "outputs": [],
   "source": [
    "births = Table.read_table('data/baby.csv')"
   ]
  },
  {
   "cell_type": "code",
   "execution_count": null,
   "metadata": {
    "tags": []
   },
   "outputs": [],
   "source": [
    "births.hist('Maternal Height', bins = np.arange(56.5, 72.6, 1))"
   ]
  },
  {
   "cell_type": "code",
   "execution_count": null,
   "metadata": {
    "tags": []
   },
   "outputs": [],
   "source": [
    "heights = births.column('Maternal Height')\n",
    "np.mean(heights), np.std(heights)"
   ]
  },
  {
   "cell_type": "code",
   "execution_count": null,
   "metadata": {
    "tags": []
   },
   "outputs": [],
   "source": [
    "# 1 SD below & above the mean\n",
    "np.mean(heights) - np.std(heights), np.mean(heights) + np.std(heights)"
   ]
  },
  {
   "cell_type": "markdown",
   "metadata": {
    "tags": []
   },
   "source": [
    "--- \n",
    "back to slides\n",
    "\n",
    "---"
   ]
  },
  {
   "cell_type": "markdown",
   "metadata": {},
   "source": [
    "## The Standard Normal Curve"
   ]
  },
  {
   "cell_type": "markdown",
   "metadata": {
    "tags": []
   },
   "source": [
    "The standard normal curve and its first and second derivative\n",
    "\\begin{align}\n",
    "\\phi(z)= & \\frac{1}{\\sqrt{2\\pi}} e^ {\\frac{1}{2}z^2}\\\\\n",
    "\\frac{\\delta{\\phi}}{\\delta{z}}  = & - \\frac{1}{\\sqrt{2\\pi}} e^ {\\frac{1}{2}z^2} x\\\\\n",
    "\\frac{\\delta^2{\\phi}}{\\delta{z}^2}  = & \\frac{1}{\\sqrt{2\\pi}} e^ {\\frac{1}{2}z^2} (x^2-1)\\\\\n",
    "\\end{align}"
   ]
  },
  {
   "cell_type": "code",
   "execution_count": null,
   "metadata": {
    "tags": []
   },
   "outputs": [],
   "source": [
    "# Create the functions and evaluate them \n",
    "def snc(x):\n",
    "    return 1/(2*np.pi)**0.5 * np.e**(-0.5*x**2)\n",
    "\n",
    "def snc_de1(x):\n",
    "    return -1/(2*np.pi)**0.5 * np.e**(-0.5 * x**2) *x\n",
    "\n",
    "def snc_de2(x):\n",
    "    return 1/(2*np.pi)**0.5 * np.e**(-0.5 * x**2) * (x**2 - 1)\n",
    "\n",
    "x = np.arange(-4,4,0.1)\n",
    "y = snc(x)\n",
    "y_p1 = snc_de1(x)\n",
    "y_p2 = snc_de2(x)"
   ]
  },
  {
   "cell_type": "code",
   "execution_count": null,
   "metadata": {
    "tags": []
   },
   "outputs": [],
   "source": [
    "births = births.with_column('SU', standard_units(heights))"
   ]
  },
  {
   "cell_type": "code",
   "execution_count": null,
   "metadata": {
    "tags": []
   },
   "outputs": [],
   "source": [
    "fig, ax = plots.subplots(figsize=(16,9), dpi=80)\n",
    "ax.hist(standard_units(heights), bins=np.arange(-3, 3, 0.4), density=True)\n",
    "ax.plot(x, y)\n",
    "ax.plot(x, y_p1)\n",
    "ax.plot(x, y_p2)\n",
    "\n",
    "ax.vlines(-1, 0, 0.4, color='yellow', zorder=2)\n",
    "ax.vlines(1, 0, 0.4, color='yellow', zorder=2)\n",
    "\n",
    "ax.legend(['$\\phi(z)$', \n",
    "           '$\\delta{\\phi}/\\delta{z}$',\n",
    "           '$\\delta^2{\\phi}/\\delta{z}^2$', \n",
    "           'Inflection Points'])\n",
    "\n",
    "fig.savefig('out.png')"
   ]
  },
  {
   "cell_type": "markdown",
   "metadata": {
    "tags": []
   },
   "source": [
    "---\n",
    "back to slides\n",
    "\n",
    "---"
   ]
  },
  {
   "cell_type": "markdown",
   "metadata": {},
   "source": [
    "## Central Limit Theorem "
   ]
  },
  {
   "cell_type": "code",
   "execution_count": null,
   "metadata": {
    "tags": []
   },
   "outputs": [],
   "source": [
    "united = Table.read_table('data/united.csv')\n",
    "united"
   ]
  },
  {
   "cell_type": "code",
   "execution_count": null,
   "metadata": {
    "tags": []
   },
   "outputs": [],
   "source": [
    "united_bins = np.arange(-20, 300, 10)\n",
    "united.hist('Delay', bins=united_bins)"
   ]
  },
  {
   "cell_type": "code",
   "execution_count": null,
   "metadata": {
    "tags": []
   },
   "outputs": [],
   "source": [
    "delays = united.column('Delay')\n",
    "delay_median = np.median(delays)\n",
    "delay_mean = np.mean(delays)\n",
    "delay_sd = np.std(delays)\n",
    "delay_mean, delay_sd, delay_median"
   ]
  },
  {
   "cell_type": "code",
   "execution_count": null,
   "metadata": {
    "tags": []
   },
   "outputs": [],
   "source": [
    "percentile(50, delays)"
   ]
  },
  {
   "cell_type": "code",
   "execution_count": null,
   "metadata": {
    "tags": []
   },
   "outputs": [],
   "source": [
    "delays.size"
   ]
  },
  {
   "cell_type": "code",
   "execution_count": null,
   "metadata": {
    "tags": []
   },
   "outputs": [],
   "source": [
    "def one_sample_mean(sample_size):\n",
    "    \"\"\" \n",
    "    Takes a sample from the population of flights \n",
    "    and computes its mean\n",
    "    \"\"\"\n",
    "    sampled_flights = united.sample(sample_size)\n",
    "    return np.mean(sampled_flights.column('Delay'))"
   ]
  },
  {
   "cell_type": "code",
   "execution_count": null,
   "metadata": {
    "tags": []
   },
   "outputs": [],
   "source": [
    "one_sample_mean(100)"
   ]
  },
  {
   "cell_type": "code",
   "execution_count": null,
   "metadata": {
    "tags": []
   },
   "outputs": [],
   "source": [
    "def ten_thousand_sample_means(sample_size):\n",
    "    means = make_array()\n",
    "    for i in np.arange(10_000):\n",
    "        mean = one_sample_mean(sample_size)\n",
    "        means = np.append(means, mean)\n",
    "    return means"
   ]
  },
  {
   "cell_type": "code",
   "execution_count": null,
   "metadata": {
    "tags": []
   },
   "outputs": [],
   "source": [
    "sample_means_100 = ten_thousand_sample_means(100)\n",
    "\n",
    "Table().with_column('Mean of 100 flight delays', sample_means_100).hist(bins=20)\n",
    "\n",
    "delay_mean, np.mean(sample_means_100)"
   ]
  },
  {
   "cell_type": "markdown",
   "metadata": {
    "tags": []
   },
   "source": [
    "## Now lets take 400"
   ]
  },
  {
   "cell_type": "code",
   "execution_count": null,
   "metadata": {
    "tags": []
   },
   "outputs": [],
   "source": [
    "sample_means_400 = ten_thousand_sample_means(400)\n",
    "\n",
    "Table().with_column('Mean of 400 flight delays', sample_means_400).hist(bins=20)\n",
    "\n",
    "delay_mean, np.mean(sample_means_400)"
   ]
  },
  {
   "cell_type": "markdown",
   "metadata": {},
   "source": [
    "Question: \n",
    "- What changed? How is this histogram different from the previous?\n",
    "- hint: check x axis AND y-axis"
   ]
  },
  {
   "cell_type": "code",
   "execution_count": null,
   "metadata": {
    "tags": []
   },
   "outputs": [],
   "source": [
    "np.mean(sample_means_400)"
   ]
  },
  {
   "cell_type": "markdown",
   "metadata": {},
   "source": [
    "## Now lets do 900\n",
    "what do we expect?"
   ]
  },
  {
   "cell_type": "code",
   "execution_count": null,
   "metadata": {
    "tags": []
   },
   "outputs": [],
   "source": [
    "sample_means_900 = ten_thousand_sample_means(900)\n",
    "\n",
    "Table().with_column(\n",
    "    'Mean of 900 flight delays', sample_means_900).hist(bins=20)\n",
    "\n",
    "delay_mean, np.mean(sample_means_900)"
   ]
  },
  {
   "cell_type": "markdown",
   "metadata": {
    "tags": []
   },
   "source": [
    "## ...  and 1600"
   ]
  },
  {
   "cell_type": "code",
   "execution_count": null,
   "metadata": {
    "tags": []
   },
   "outputs": [],
   "source": [
    "sample_means_1600 = ten_thousand_sample_means(1600)\n",
    "\n",
    "Table().with_column('Mean of 1600 flight delays', sample_means_1600).hist(bins=20)\n",
    "\n",
    "delay_mean, np.mean(sample_means_1600)"
   ]
  },
  {
   "cell_type": "markdown",
   "metadata": {},
   "source": [
    "## Plot them all together"
   ]
  },
  {
   "cell_type": "code",
   "execution_count": null,
   "metadata": {
    "tags": []
   },
   "outputs": [],
   "source": [
    "means_tbl = Table().with_columns(\n",
    "    '100', sample_means_100,\n",
    "    '400', sample_means_400,\n",
    "    '900', sample_means_900,\n",
    "    '1600', sample_means_1600,\n",
    ")\n",
    "means_tbl"
   ]
  },
  {
   "cell_type": "code",
   "execution_count": null,
   "metadata": {
    "tags": []
   },
   "outputs": [],
   "source": [
    "means_tbl.hist(bins = np.arange(5, 31, 0.3), alpha=0.4, histtype='step', linewidth=2, fill=True)"
   ]
  },
  {
   "cell_type": "code",
   "execution_count": null,
   "metadata": {
    "tags": []
   },
   "outputs": [],
   "source": [
    "means =  make_array(np.mean(sample_means_100),\n",
    "                    np.mean(sample_means_400),\n",
    "                    np.mean(sample_means_900),\n",
    "                    np.mean(sample_means_1600))\n",
    "\n",
    "stds = make_array(np.std(sample_means_100),\n",
    "                  np.std(sample_means_400),\n",
    "                  np.std(sample_means_900),\n",
    "                  np.std(sample_means_1600))\n",
    "\n",
    "summary = Table().with_columns('sample size', make_array(100, 400, 900 ,1600),\n",
    "                               'means', means,\n",
    "                               'std', stds)                               \n",
    "summary"
   ]
  },
  {
   "cell_type": "code",
   "execution_count": null,
   "metadata": {
    "tags": []
   },
   "outputs": [],
   "source": [
    "summary.plot('sample size', 'std', marker='x')"
   ]
  },
  {
   "cell_type": "code",
   "execution_count": null,
   "metadata": {
    "tags": []
   },
   "outputs": [],
   "source": [
    "sample_size_scales = make_array(1, 4, 9, 16)\n",
    "summary.with_columns('sample size scale', sample_size_scales,\n",
    "                     'sqrt scale factor', 1/np.sqrt(sample_size_scales),\n",
    "                     'std scale factor', stds / stds[0])"
   ]
  },
  {
   "cell_type": "code",
   "execution_count": null,
   "metadata": {},
   "outputs": [],
   "source": []
  }
 ],
 "metadata": {
  "anaconda-cloud": {},
  "kernelspec": {
   "display_name": "Python 3 (ipykernel)",
   "language": "python",
   "name": "python3"
  },
  "language_info": {
   "codemirror_mode": {
    "name": "ipython",
    "version": 3
   },
   "file_extension": ".py",
   "mimetype": "text/x-python",
   "name": "python",
   "nbconvert_exporter": "python",
   "pygments_lexer": "ipython3",
   "version": "3.11.5"
  }
 },
 "nbformat": 4,
 "nbformat_minor": 4
}
