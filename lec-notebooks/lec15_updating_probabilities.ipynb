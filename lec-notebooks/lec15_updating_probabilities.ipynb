{
 "cells": [
  {
   "cell_type": "code",
   "execution_count": 1,
   "id": "631dadb2-97dc-4c37-a9ae-365ecc2d1f5a",
   "metadata": {
    "tags": []
   },
   "outputs": [],
   "source": [
    "from datascience import *\n",
    "import numpy as np\n",
    "import matplotlib\n",
    "%matplotlib inline\n",
    "import matplotlib.pyplot as plots\n",
    "plots.style.use('fivethirtyeight')"
   ]
  },
  {
   "cell_type": "markdown",
   "id": "e3a6322a-cc66-4665-a26b-1277e0bbe3e6",
   "metadata": {},
   "source": [
    "# Lecture 15 Demo"
   ]
  },
  {
   "cell_type": "code",
   "execution_count": 2,
   "id": "0fa941c3-267c-4d0d-8b2b-77d631b8e4be",
   "metadata": {
    "tags": []
   },
   "outputs": [],
   "source": [
    "n_students = 100\n",
    "share_second = 0.6\n",
    "share_third = 0.4\n",
    "share_second_declared = 0.5\n",
    "share_third_declared = 0.8\n",
    "\n",
    "students = Table().with_columns('year', np.append(np.repeat('second', n_students*share_second), \n",
    "                                                  np.repeat('third', n_students*share_third)),\n",
    "                                'declared', np.append(np.append(np.repeat('yes', round(n_students*share_second*share_second_declared)), \n",
    "                                                                np.repeat('no',  round(n_students*share_second*(1-share_second_declared)))),\n",
    "                                                      np.append(np.repeat('yes', round(n_students*share_third*share_third_declared)), \n",
    "                                                                np.repeat('no',  round(n_students*share_third*(1-share_third_declared))))))"
   ]
  },
  {
   "cell_type": "code",
   "execution_count": 3,
   "id": "5e8b1648-5e72-4e87-bcc2-5de94af1080b",
   "metadata": {
    "tags": []
   },
   "outputs": [
    {
     "data": {
      "text/html": [
       "<table border=\"1\" class=\"dataframe\">\n",
       "    <thead>\n",
       "        <tr>\n",
       "            <th>year</th> <th>no</th> <th>yes</th>\n",
       "        </tr>\n",
       "    </thead>\n",
       "    <tbody>\n",
       "        <tr>\n",
       "            <td>second</td> <td>30  </td> <td>30  </td>\n",
       "        </tr>\n",
       "        <tr>\n",
       "            <td>third </td> <td>8   </td> <td>32  </td>\n",
       "        </tr>\n",
       "    </tbody>\n",
       "</table>"
      ],
      "text/plain": [
       "year   | no   | yes\n",
       "second | 30   | 30\n",
       "third  | 8    | 32"
      ]
     },
     "execution_count": 3,
     "metadata": {},
     "output_type": "execute_result"
    }
   ],
   "source": [
    "students.pivot('declared', 'year')\n",
    "\n",
    "# as a bonus, can you add on to this pivot table, the total number of second and third years?\n",
    "# and add on the total number of declared and undeclared students?\n"
   ]
  },
  {
   "cell_type": "markdown",
   "id": "3bbee287-f350-48db-a242-6d2c5e1b818d",
   "metadata": {},
   "source": [
    "## Bayes rule"
   ]
  },
  {
   "cell_type": "code",
   "execution_count": 4,
   "id": "3b06de4e-aed8-498d-9bd0-1479a300862d",
   "metadata": {
    "tags": []
   },
   "outputs": [],
   "source": [
    "def bayes_rule(pr_a, pr_b_given_a, pr_b_given_not_a):\n",
    "    \"\"\"\n",
    "    Bayes' Rule\n",
    "    P(A | B) = P(A)P(B|A) / P(B)\n",
    "    \n",
    "    To Compute P(B)\n",
    "        P(B) = P(B, A) + P(B, Not A) \n",
    "             = P(A)P(B|A) + P(Not A)P(B | Not A)\n",
    "    \"\"\"\n",
    "    prb_b = pr_a * pr_b_given_a + (1-pr_a) * pr_b_given_not_a\n",
    "    return pr_a * pr_b_given_a / prb_b"
   ]
  },
  {
   "cell_type": "code",
   "execution_count": 5,
   "id": "82fa6769-3b0c-4153-8e9f-36db15e3b8ba",
   "metadata": {
    "tags": []
   },
   "outputs": [
    {
     "data": {
      "text/plain": [
       "0.019434628975265017"
      ]
     },
     "execution_count": 5,
     "metadata": {},
     "output_type": "execute_result"
    }
   ],
   "source": [
    "pr_disease = 1/1000 # rare disease\n",
    "pr_pos_given_disease = 0.99\n",
    "pr_pos_given_no_disease = 0.05\n",
    "\n",
    "bayes_rule(pr_disease, pr_pos_given_disease, pr_pos_given_no_disease)"
   ]
  },
  {
   "cell_type": "code",
   "execution_count": 9,
   "id": "be87a044-58ff-4d38-b1dd-e7e64846693e",
   "metadata": {},
   "outputs": [
    {
     "data": {
      "text/plain": [
       "0.005970149253731344"
      ]
     },
     "execution_count": 9,
     "metadata": {},
     "output_type": "execute_result"
    }
   ],
   "source": [
    "pr_disease = 1/1000 # rare disease\n",
    "pr_pos_given_disease = 0.90 # change accuracy of test, true positive %\n",
    "pr_pos_given_no_disease = 0.15 # false positive\n",
    "\n",
    "bayes_rule(pr_disease, pr_pos_given_disease, pr_pos_given_no_disease)"
   ]
  },
  {
   "cell_type": "code",
   "execution_count": 10,
   "id": "4486c3da-4709-4732-b3d5-7ae29782922d",
   "metadata": {
    "tags": []
   },
   "outputs": [
    {
     "data": {
      "text/plain": [
       "0.39999999999999997"
      ]
     },
     "execution_count": 10,
     "metadata": {},
     "output_type": "execute_result"
    }
   ],
   "source": [
    "pr_disease = 0.1 # 1 in 10 get this disease or 10%\n",
    "pr_pos_given_disease = 0.90\n",
    "pr_pos_given_no_disease = 0.15\n",
    "\n",
    "bayes_rule(pr_disease, pr_pos_given_disease, pr_pos_given_no_disease)\n",
    "# 68.75% probability that you have the disease given you tested positive\n",
    "# assume we are testing anyone and everyone, no matter if they are exhibiting symptoms or not"
   ]
  },
  {
   "cell_type": "code",
   "execution_count": null,
   "id": "03519c92-b163-45b8-ab25-b4b5f8550365",
   "metadata": {},
   "outputs": [],
   "source": []
  },
  {
   "cell_type": "markdown",
   "id": "0357b10b-fb59-4c8f-b27f-13136dfb75b6",
   "metadata": {},
   "source": [
    "## Getting Confident Quickly"
   ]
  },
  {
   "cell_type": "code",
   "execution_count": 11,
   "id": "8765b1db-0a68-4a84-a6fd-a148f9dd8ef2",
   "metadata": {
    "tags": []
   },
   "outputs": [
    {
     "data": {
      "image/png": "[encoded data removed]",
      "text/plain": [
       "<Figure size 600x600 with 1 Axes>"
      ]
     },
     "metadata": {},
     "output_type": "display_data"
    }
   ],
   "source": [
    "pr_disease = np.arange(1,999)/1000\n",
    "# (1/1000, 2/1000, .... 998/1000)\n",
    "pr_pos_given_disease = 0.90 # P( Positive | Disease), True  Positive\n",
    "# or 1% false negative, you test negative but you DO have the disease\n",
    "pr_pos_given_no_disease = 0.15 # P(Positive | No Disease), False Positive\n",
    "\n",
    "post = bayes_rule(pr_disease, pr_pos_given_disease, pr_pos_given_no_disease)\n",
    "Table().with_columns(\n",
    "    \"Prior Pr(Disease)\", pr_disease, \n",
    "    \"Posterior Pr(Disease | Pos. Test)\", post).plot(\"Prior Pr(Disease)\")\n",
    "\n",
    "#x-axis is the prevalence of disease\n",
    "# 0 being rare, 1 being common (common cold)\n",
    "# y-axis is probabiliyt of us having the disease given we test positive\n",
    "\n",
    "# remember the rare disease, P(Disease | Positive) ~ 2% even though the test is deemed pretty accurate\n",
    "# as the disease becomes more prevalent, this probaiblity increases\n",
    "\n",
    "# P(Disease|Positive) tells us less here of the overall accuracy of the test (assuming we are testing anybody/everybody, not just those\n",
    "# the disease) and we are assuming the test is accurate enough\n",
    "\n",
    "# what it tells us is more tied with how common or not the disease\n",
    "# it is more tied with the prevalence of the disease"
   ]
  },
  {
   "cell_type": "code",
   "execution_count": null,
   "id": "3940133e-d257-4991-b83d-82793bf1ab6d",
   "metadata": {},
   "outputs": [],
   "source": []
  }
 ],
 "metadata": {
  "kernelspec": {
   "display_name": "Python 3 (ipykernel)",
   "language": "python",
   "name": "python3"
  },
  "language_info": {
   "codemirror_mode": {
    "name": "ipython",
    "version": 3
   },
   "file_extension": ".py",
   "mimetype": "text/x-python",
   "name": "python",
   "nbconvert_exporter": "python",
   "pygments_lexer": "ipython3",
   "version": "3.11.5"
  }
 },
 "nbformat": 4,
 "nbformat_minor": 5
}
