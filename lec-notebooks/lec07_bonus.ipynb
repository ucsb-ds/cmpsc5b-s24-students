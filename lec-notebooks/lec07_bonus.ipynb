{
 "cells": [
  {
   "cell_type": "code",
   "execution_count": null,
   "id": "743a76de-c587-4f90-b4dd-665552dca046",
   "metadata": {
    "tags": []
   },
   "outputs": [],
   "source": [
    "import matplotlib\n",
    "from datascience import *\n",
    "%matplotlib inline\n",
    "import matplotlib.pyplot as plots\n",
    "import numpy as np\n",
    "plots.style.use('fivethirtyeight')"
   ]
  },
  {
   "cell_type": "markdown",
   "id": "87399790-adf2-406c-8db8-5dfb2b8847c9",
   "metadata": {},
   "source": [
    "# Discussion question\n",
    "\n",
    "After rolling 1 000 000 fair 6-sided dice, which of these histograms would you expect to have a bell shape? Check all that apply. \n",
    "1. The histogram of outcomes of these million rolls\n",
    "1. The histogram that results from computing the average outcome of these million rolls\n",
    "1. The histogram that results from splitting the outcomes into 1 000 groups of 1 000 (in the order they occurred) and computing the average outcome of each group\n"
   ]
  },
  {
   "cell_type": "markdown",
   "id": "94eda708-1d69-4aa7-982b-53a9dbd9a53e",
   "metadata": {},
   "source": [
    "**Answer to 1.**"
   ]
  },
  {
   "cell_type": "code",
   "execution_count": null,
   "id": "b491199e-a121-455e-b9af-2f46140bc175",
   "metadata": {
    "tags": []
   },
   "outputs": [],
   "source": [
    "throws = np.random.choice(make_array(1, 2, 3, 4, 5, 6), 6000)\n",
    "Table().with_columns('outcomes', throws).group_bar('outcomes')"
   ]
  },
  {
   "cell_type": "markdown",
   "id": "2d26b4c8-00f7-4237-a598-26e37d2a1ab5",
   "metadata": {},
   "source": [
    "**Answer to 2.**"
   ]
  },
  {
   "cell_type": "code",
   "execution_count": null,
   "id": "2b4c6ce2-38eb-41a2-8455-930f55595fe6",
   "metadata": {
    "tags": []
   },
   "outputs": [],
   "source": [
    "np.mean(throws)"
   ]
  },
  {
   "cell_type": "markdown",
   "id": "d56c86fa-1671-4aaf-b56f-14d757148f31",
   "metadata": {},
   "source": [
    "**Answer to 3.**\n",
    "\n",
    "First, we execute as stated in the question: we throw  1000 times 1000 throws and take the average each time"
   ]
  },
  {
   "cell_type": "code",
   "execution_count": null,
   "id": "151ce1e9-2625-471b-a1d3-4e1c2060fa49",
   "metadata": {
    "tags": []
   },
   "outputs": [],
   "source": [
    "total_throws = 1_000_000\n",
    "\n",
    "def throw_dice_n_times(n):\n",
    "    return np.random.choice(make_array(1,2,3,4,5,6), n)\n",
    "\n",
    "averages = make_array()\n",
    "for thrown in range(1000):\n",
    "    throws = throw_dice_n_times(1000)\n",
    "    average = np.mean(throws)\n",
    "    averages = np.append(averages, average)"
   ]
  },
  {
   "cell_type": "code",
   "execution_count": null,
   "id": "9993787b-edcb-4fff-b084-23542412ae2e",
   "metadata": {
    "tags": []
   },
   "outputs": [],
   "source": [
    "Table().with_columns('averages', averages).hist()"
   ]
  },
  {
   "cell_type": "markdown",
   "id": "af0faac5-7eeb-4af6-9611-b039f8fcf59c",
   "metadata": {},
   "source": [
    "**Bonus**\n",
    "\n",
    "What happens if instead of groups of 1000, we increase and decrease the group size to \n",
    "- 10\n",
    "- 100\n",
    "- 1000\n",
    "- 10000"
   ]
  },
  {
   "cell_type": "code",
   "execution_count": null,
   "id": "f76cc65c-49cc-48bd-b4cb-fb6150269e73",
   "metadata": {
    "tags": []
   },
   "outputs": [],
   "source": [
    "total_throws = 1_000_000\n",
    "\n",
    "def throw_dice_n_times(n):\n",
    "    return np.random.choice(make_array(1,2,3,4,5,6), n)\n",
    "\n",
    "def make_avg_of_group(n_throws):\n",
    "    n_groups = int(total_throws/n_throws)\n",
    "    averages = make_array()\n",
    "    for thrown in range(n_groups):\n",
    "        throws = throw_dice_n_times(n_throws)\n",
    "        average = np.mean(throws)\n",
    "        averages = np.append(averages, average)\n",
    "    return averages"
   ]
  },
  {
   "cell_type": "code",
   "execution_count": null,
   "id": "a7b0061a-044d-41db-b4ea-eddc384dfb54",
   "metadata": {
    "tags": []
   },
   "outputs": [],
   "source": [
    "%%time\n",
    "group_10 = make_avg_of_group(10)\n",
    "group_100 = make_avg_of_group(100)\n",
    "group_1000 = make_avg_of_group(1000)\n",
    "group_10000 = make_avg_of_group(10000)"
   ]
  },
  {
   "cell_type": "code",
   "execution_count": null,
   "id": "162719a0-6b5a-4900-a1eb-0547eace74e5",
   "metadata": {
    "tags": []
   },
   "outputs": [],
   "source": [
    "plots.hist(group_10, density=True)\n",
    "plots.hist(group_100, density=True)\n",
    "plots.hist(group_1000, density=True)\n",
    "#plots.hist(group_10000, density=True)"
   ]
  },
  {
   "cell_type": "code",
   "execution_count": null,
   "id": "4a2827f1-154f-437f-8226-be38450b789e",
   "metadata": {},
   "outputs": [],
   "source": []
  }
 ],
 "metadata": {
  "kernelspec": {
   "display_name": "Python 3 (ipykernel)",
   "language": "python",
   "name": "python3"
  },
  "language_info": {
   "codemirror_mode": {
    "name": "ipython",
    "version": 3
   },
   "file_extension": ".py",
   "mimetype": "text/x-python",
   "name": "python",
   "nbconvert_exporter": "python",
   "pygments_lexer": "ipython3",
   "version": "3.11.5"
  }
 },
 "nbformat": 4,
 "nbformat_minor": 5
}
